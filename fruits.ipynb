{
 "cells": [
  {
   "cell_type": "code",
   "execution_count": 12,
   "id": "8df7a835-61ad-47c6-8c46-ac9c23131548",
   "metadata": {},
   "outputs": [
    {
     "name": "stdout",
     "output_type": "stream",
     "text": [
      "   Fruits  Price\n",
      "0   Apple    100\n",
      "1  Banana     40\n",
      "2  Orange     60\n",
      "fruits.csv file created!\n"
     ]
    }
   ],
   "source": [
    "import pandas as pd\n",
    "\n",
    "data={\n",
    "    \"Fruits\":[\"Apple\",\"Banana\",\"Orange\"],\n",
    "    \"Price\":[100,40,60]\n",
    "}\n",
    "df=pd.DataFrame(data)\n",
    "df.to_csv(\"fruits.csv\",index=False)\n",
    "df_new=pd.read_csv(\"fruits.csv\")\n",
    "print(df_new)\n",
    "print(\"fruits.csv file created!\")"
   ]
  }
 ],
 "metadata": {
  "kernelspec": {
   "display_name": "Python 3 (ipykernel)",
   "language": "python",
   "name": "python3"
  },
  "language_info": {
   "codemirror_mode": {
    "name": "ipython",
    "version": 3
   },
   "file_extension": ".py",
   "mimetype": "text/x-python",
   "name": "python",
   "nbconvert_exporter": "python",
   "pygments_lexer": "ipython3",
   "version": "3.12.7"
  }
 },
 "nbformat": 4,
 "nbformat_minor": 5
}
