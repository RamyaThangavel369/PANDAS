{
 "cells": [
  {
   "cell_type": "code",
   "execution_count": 5,
   "id": "f6b399a9-db23-43c3-ac97-92bc5db72464",
   "metadata": {},
   "outputs": [
    {
     "name": "stdout",
     "output_type": "stream",
     "text": [
      "      Name  Math  Science  English\n",
      "0    Alice    85       92       82\n",
      "1      Bob    86       94       75\n",
      "2  Charlie    73       81       65\n",
      "3    David    90       70       61\n",
      "4      Eva    84       65       60\n"
     ]
    }
   ],
   "source": [
    "import pandas as pd\n",
    "\n",
    "df = pd.read_csv('C:\\\\Users\\\\ramya\\\\OneDrive\\\\Documents\\\\grades.csv')\n",
    "\n",
    "print(df.to_string())"
   ]
  }
 ],
 "metadata": {
  "kernelspec": {
   "display_name": "Python 3 (ipykernel)",
   "language": "python",
   "name": "python3"
  },
  "language_info": {
   "codemirror_mode": {
    "name": "ipython",
    "version": 3
   },
   "file_extension": ".py",
   "mimetype": "text/x-python",
   "name": "python",
   "nbconvert_exporter": "python",
   "pygments_lexer": "ipython3",
   "version": "3.12.7"
  }
 },
 "nbformat": 4,
 "nbformat_minor": 5
}
