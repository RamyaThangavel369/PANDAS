{
 "cells": [
  {
   "cell_type": "code",
   "execution_count": 17,
   "id": "b79098c5-0f65-4e16-be95-301e6c948bfa",
   "metadata": {},
   "outputs": [
    {
     "name": "stdout",
     "output_type": "stream",
     "text": [
      "          Favcars  Models\n",
      "0             BMW    2020\n",
      "1            AUDI    2024\n",
      "2           TESLA    2024\n",
      "3           HONDA    1993\n",
      "4         PORSCHE    1984\n",
      "5      ROLLSROYCE    2001\n",
      "6     LAMBORGHINI    1986\n",
      "7  MERCENDES-BENZ    1986\n",
      "8            FORD    1971\n",
      "Favcars    TESLA\n",
      "Models      2024\n",
      "Name: 2, dtype: object\n"
     ]
    }
   ],
   "source": [
    "#loc attribute(Locate)\n",
    "import pandas as pd\n",
    "\n",
    "data = {\n",
    "  \"Favcars\":['BMW','AUDI','TESLA','HONDA','PORSCHE','ROLLSROYCE','LAMBORGHINI','MERCENDES-BENZ','FORD'],\n",
    "  \"Models\":[2020 ,2024,2024,1993,1984,2001,1986,1986,1971 ]\n",
    "} \n",
    "\n",
    "                              #load data into a DataFrame object:\n",
    "df = pd.DataFrame(data)\n",
    "\n",
    "print(df) \n",
    "                                #refer to the row index:\n",
    "print(df.loc[2])"
   ]
  },
  {
   "cell_type": "code",
   "execution_count": null,
   "id": "413c7b24-c6f4-4244-9055-8a23523f1923",
   "metadata": {},
   "outputs": [],
   "source": []
  },
  {
   "cell_type": "code",
   "execution_count": null,
   "id": "a49b7478-0e0b-46db-b77a-4d759ecfe1e4",
   "metadata": {},
   "outputs": [],
   "source": []
  }
 ],
 "metadata": {
  "kernelspec": {
   "display_name": "Python 3 (ipykernel)",
   "language": "python",
   "name": "python3"
  },
  "language_info": {
   "codemirror_mode": {
    "name": "ipython",
    "version": 3
   },
   "file_extension": ".py",
   "mimetype": "text/x-python",
   "name": "python",
   "nbconvert_exporter": "python",
   "pygments_lexer": "ipython3",
   "version": "3.12.7"
  }
 },
 "nbformat": 4,
 "nbformat_minor": 5
}
