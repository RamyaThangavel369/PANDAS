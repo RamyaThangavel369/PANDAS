{
 "cells": [
  {
   "cell_type": "code",
   "execution_count": 51,
   "id": "9d3a7335-d1b1-493d-8e56-8777a7154a70",
   "metadata": {},
   "outputs": [
    {
     "name": "stdout",
     "output_type": "stream",
     "text": [
      "Carrot         Orange\n",
      "Beetroot       Purple\n",
      "Potato         Yellow\n",
      "Cauliflower     White\n",
      "Tomato            Red\n",
      "dtype: object\n"
     ]
    }
   ],
   "source": [
    "import pandas as pd\n",
    "veggie={'Carrot':'Orange',\n",
    "               'Beetroot':'Purple',\n",
    "               'Potato':'Yellow',\n",
    "               'Cauliflower':'White',\n",
    "                'Tomato':'Red'}\n",
    "veggie_series=pd.Series(veggie)\n",
    "print(veggie_series)"
   ]
  }
 ],
 "metadata": {
  "kernelspec": {
   "display_name": "Python 3 (ipykernel)",
   "language": "python",
   "name": "python3"
  },
  "language_info": {
   "codemirror_mode": {
    "name": "ipython",
    "version": 3
   },
   "file_extension": ".py",
   "mimetype": "text/x-python",
   "name": "python",
   "nbconvert_exporter": "python",
   "pygments_lexer": "ipython3",
   "version": "3.12.7"
  }
 },
 "nbformat": 4,
 "nbformat_minor": 5
}
