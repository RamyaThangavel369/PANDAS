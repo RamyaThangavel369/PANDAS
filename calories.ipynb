{
 "cells": [
  {
   "cell_type": "code",
   "execution_count": 17,
   "id": "345bebf9-6088-4574-8c06-af47fc870b60",
   "metadata": {},
   "outputs": [
    {
     "name": "stdout",
     "output_type": "stream",
     "text": [
      "day3    640\n",
      "day4    300\n",
      "day7    600\n",
      "dtype: int64\n"
     ]
    }
   ],
   "source": [
    "#INDEX ARGUMENT\n",
    "#Create a Series using only data from \"day3\" ,\"day4\" and \"day7\"\n",
    "\n",
    "import pandas as pd\n",
    "\n",
    "calories={'day1':400,'day2':570,'day3':640,'day4':300,'day5':230,'day6':590,'day7':600}\n",
    "\n",
    "daysoftheweek=pd.Series(calories,index=['day3','day4','day7'])\n",
    "\n",
    "print(daysoftheweek)                          #Note: The keys of the dictionary become the labels.\n"
   ]
  },
  {
   "cell_type": "code",
   "execution_count": null,
   "id": "87ba8b24-7bfc-42db-973e-785521e0cf55",
   "metadata": {},
   "outputs": [],
   "source": []
  }
 ],
 "metadata": {
  "kernelspec": {
   "display_name": "Python 3 (ipykernel)",
   "language": "python",
   "name": "python3"
  },
  "language_info": {
   "codemirror_mode": {
    "name": "ipython",
    "version": 3
   },
   "file_extension": ".py",
   "mimetype": "text/x-python",
   "name": "python",
   "nbconvert_exporter": "python",
   "pygments_lexer": "ipython3",
   "version": "3.12.7"
  }
 },
 "nbformat": 4,
 "nbformat_minor": 5
}
